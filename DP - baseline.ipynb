{
 "cells": [
  {
   "cell_type": "code",
   "execution_count": 1,
   "metadata": {},
   "outputs": [
    {
     "name": "stdout",
     "output_type": "stream",
     "text": [
      "--- 0.2422337532043457 seconds ---\n"
     ]
    }
   ],
   "source": [
    "import time\n",
    "import numpy as np\n",
    "\n",
    "start_time = time.time()\n",
    "\n",
    "n = 300\n",
    "\n",
    "def find3Numbers(A, arr_size, sum):\n",
    "  triplets = []\n",
    "  for i in range(0, arr_size-1):\n",
    "    l = i\n",
    "    r = arr_size-1\n",
    "    while (l <= r):   \n",
    "      if( A[i] + A[l] + A[r] == sum):\n",
    "        #print(\"Triplet is\", A[i],', ', A[l], ', ', A[r])\n",
    "        triplets.append([A[i],A[l],A[r]])\n",
    "        l += 1        \n",
    "      elif (A[i] + A[l] + A[r] < sum):\n",
    "        l += 1\n",
    "      else:\n",
    "        r -= 1\n",
    "  return triplets\n",
    "\n",
    "A = np.arange(n+1)\n",
    "sum = max(A)\n",
    "arr_size = len(A)\n",
    "\n",
    "## TODO: Make it set - or restrictions\n",
    "triplets = find3Numbers(A, arr_size, sum)\n",
    "triplets_reel = []\n",
    " \n",
    "for t in triplets:\n",
    "    triplets_reel.append([t[0],t[1],t[2]])\n",
    "    \n",
    "    if t[0]==t[1]==t[2]:\n",
    "        continue\n",
    "    \n",
    "    if t[0]==t[1]:\n",
    "        triplets_reel.append([t[2],t[1],t[0]])\n",
    "        triplets_reel.append([t[0],t[2],t[1]])\n",
    "        continue\n",
    "    if t[1]==t[2]:   \n",
    "        triplets_reel.append([t[1],t[0],t[2]])\n",
    "        triplets_reel.append([t[2],t[1],t[0]])\n",
    "        continue\n",
    "        \n",
    "    if t[0]==t[2]:  \n",
    "        triplets_reel.append([t[0],t[2],t[1]])\n",
    "        triplets_reel.append([t[1],t[0],t[2]])\n",
    "        continue\n",
    "        \n",
    "    triplets_reel.append([t[0],t[2],t[1]])    \n",
    "    triplets_reel.append([t[1],t[2],t[0]])\n",
    "    triplets_reel.append([t[1],t[0],t[2]])\n",
    "    triplets_reel.append([t[2],t[0],t[1]])\n",
    "    triplets_reel.append([t[2],t[1],t[0]])\n",
    "\n",
    "\n",
    "triplet_list = np.array(triplets_reel)\n",
    "#print(triplet)\n",
    "print(\"--- %s seconds ---\" % (time.time() - start_time))"
   ]
  },
  {
   "cell_type": "code",
   "execution_count": 3,
   "metadata": {},
   "outputs": [
    {
     "data": {
      "text/plain": [
       "45451"
      ]
     },
     "execution_count": 3,
     "metadata": {},
     "output_type": "execute_result"
    }
   ],
   "source": [
    "len(triplet_list)"
   ]
  },
  {
   "cell_type": "code",
   "execution_count": 57,
   "metadata": {},
   "outputs": [],
   "source": [
    "resulting_list = np.zeros((len(triplet_list)),dtype=bool)\n",
    "pos_avail_info = np.ones((3,n+1),dtype=bool)"
   ]
  },
  {
   "cell_type": "code",
   "execution_count": 58,
   "metadata": {},
   "outputs": [],
   "source": [
    "def check_pos(positional_info, triplet):\n",
    "    return positional_info[0, triplet[0]] and positional_info[1, triplet[1]] and positional_info[2, triplet[2]] "
   ]
  },
  {
   "cell_type": "code",
   "execution_count": 59,
   "metadata": {},
   "outputs": [],
   "source": [
    "def update_pos(positional_info, triplet):\n",
    "    new_pos_info = positional_info.copy()\n",
    "    new_pos_info[0, triplet[0]] = False\n",
    "    new_pos_info[1, triplet[1]] = False\n",
    "    new_pos_info[2, triplet[2]] = False\n",
    "    return new_pos_info\n",
    "def update_res_list(res_list, step):\n",
    "    new_res_list = res_list.copy()\n",
    "    new_res_list[step]=True\n",
    "    return new_res_list"
   ]
  },
  {
   "cell_type": "code",
   "execution_count": 45,
   "metadata": {},
   "outputs": [],
   "source": [
    "def memoize(f):\n",
    "    memo = {}\n",
    "    def helper(step, *args):\n",
    "        if step not in memo:            \n",
    "            memo[step] = f(step, *args)\n",
    "        return memo[step]\n",
    "    return helper"
   ]
  },
  {
   "cell_type": "code",
   "execution_count": 46,
   "metadata": {},
   "outputs": [],
   "source": [
    "memoized = {}\n",
    "triplet_list"
   ]
  },
  {
   "cell_type": "code",
   "execution_count": 62,
   "metadata": {},
   "outputs": [],
   "source": [
    "# TODO: global vs local triplet_list\n",
    "def recursive_dp(current_step, positional_info, triplet_list, resulting_list):\n",
    "    current_triplet = triplet_list[current_step]\n",
    "    #print(positional_info)\n",
    "    if current_step == 0:\n",
    "        return  0, resulting_list\n",
    "    if not check_pos(positional_info, current_triplet):\n",
    "        return recursive_dp(current_step - 1, positional_info.copy(), triplet_list, resulting_list)\n",
    "    \n",
    "    no_update_size, no_update_result = recursive_dp(current_step - 1, positional_info.copy(), triplet_list, resulting_list) \n",
    "    update_size, update_result = recursive_dp(current_step - 1, update_pos(positional_info, current_triplet), triplet_list, update_res_list(resulting_list, current_step))\n",
    "    update_size += 1\n",
    "    \n",
    "    if no_update_size < update_size:\n",
    "        return update_size, update_result\n",
    "    return no_update_size, no_update_result"
   ]
  },
  {
   "cell_type": "code",
   "execution_count": null,
   "metadata": {},
   "outputs": [],
   "source": [
    "def new_dp():"
   ]
  },
  {
   "cell_type": "code",
   "execution_count": 63,
   "metadata": {},
   "outputs": [
    {
     "name": "stdout",
     "output_type": "stream",
     "text": [
      "--- 0.0009996891021728516 seconds ---\n"
     ]
    }
   ],
   "source": [
    "start_time = time.time()\n",
    "num, res = recursive_dp(len(triplet_list)-1,pos_avail_info,triplet_list,resulting_list)\n",
    "print(\"--- %s seconds ---\" % (time.time() - start_time))"
   ]
  },
  {
   "cell_type": "code",
   "execution_count": 64,
   "metadata": {},
   "outputs": [
    {
     "data": {
      "text/plain": [
       "array([[0, 0, 3],\n",
       "       [3, 0, 0],\n",
       "       [0, 3, 0],\n",
       "       [0, 1, 2],\n",
       "       [0, 2, 1],\n",
       "       [1, 2, 0],\n",
       "       [1, 0, 2],\n",
       "       [2, 0, 1],\n",
       "       [2, 1, 0],\n",
       "       [1, 1, 1]])"
      ]
     },
     "execution_count": 64,
     "metadata": {},
     "output_type": "execute_result"
    }
   ],
   "source": [
    "triplet_list"
   ]
  },
  {
   "cell_type": "code",
   "execution_count": 65,
   "metadata": {},
   "outputs": [
    {
     "data": {
      "text/plain": [
       "array([[0, 1, 2],\n",
       "       [1, 2, 0],\n",
       "       [2, 0, 1]])"
      ]
     },
     "execution_count": 65,
     "metadata": {},
     "output_type": "execute_result"
    }
   ],
   "source": [
    "triplet_list[res]"
   ]
  },
  {
   "cell_type": "code",
   "execution_count": 35,
   "metadata": {},
   "outputs": [
    {
     "data": {
      "text/plain": [
       "3"
      ]
     },
     "execution_count": 35,
     "metadata": {},
     "output_type": "execute_result"
    }
   ],
   "source": [
    "num"
   ]
  },
  {
   "cell_type": "code",
   "execution_count": 23,
   "metadata": {},
   "outputs": [],
   "source": [
    "mem = memoize(recursive_dp)"
   ]
  },
  {
   "cell_type": "code",
   "execution_count": 24,
   "metadata": {},
   "outputs": [
    {
     "name": "stdout",
     "output_type": "stream",
     "text": [
      "--- 31.75982141494751 seconds ---\n"
     ]
    }
   ],
   "source": [
    "start_time = time.time()\n",
    "num, res = mem(len(triplet_list)-1,pos_avail_info,triplet_list,resulting_list)\n",
    "print(\"--- %s seconds ---\" % (time.time() - start_time))"
   ]
  },
  {
   "cell_type": "code",
   "execution_count": null,
   "metadata": {},
   "outputs": [],
   "source": [
    "triplet_list[res]"
   ]
  }
 ],
 "metadata": {
  "kernelspec": {
   "display_name": "Python 3",
   "language": "python",
   "name": "python3"
  },
  "language_info": {
   "codemirror_mode": {
    "name": "ipython",
    "version": 3
   },
   "file_extension": ".py",
   "mimetype": "text/x-python",
   "name": "python",
   "nbconvert_exporter": "python",
   "pygments_lexer": "ipython3",
   "version": "3.8.5"
  }
 },
 "nbformat": 4,
 "nbformat_minor": 4
}
