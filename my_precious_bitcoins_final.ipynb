{
 "cells": [
  {
   "cell_type": "code",
   "execution_count": 1,
   "metadata": {
    "scrolled": true
   },
   "outputs": [
    {
     "name": "stdout",
     "output_type": "stream",
     "text": [
      "    \u001b[36m\u001b[1mFetching:\u001b[22m\u001b[39m [>                                        ]  0.0 %\r",
      "    \u001b[36m\u001b[1mFetching:\u001b[22m\u001b[39m [========>                                ]  20.0 %\r",
      "    \u001b[36m\u001b[1mFetching:\u001b[22m\u001b[39m [================>                        ]  40.0 %\r",
      "    \u001b[36m\u001b[1mFetching:\u001b[22m\u001b[39m [========================>                ]  60.0 %\r",
      "    \u001b[36m\u001b[1mFetching:\u001b[22m\u001b[39m [================================>        ]  80.0 %\r",
      "    \u001b[36m\u001b[1mFetching:\u001b[22m\u001b[39m [========================================>]  100.0 %\r"
     ]
    }
   ],
   "source": [
    "using Pkg;Pkg.update()"
   ]
  },
  {
   "cell_type": "code",
   "execution_count": 2,
   "metadata": {},
   "outputs": [],
   "source": [
    "using Random\n",
    "using Printf"
   ]
  },
  {
   "cell_type": "code",
   "execution_count": 3,
   "metadata": {},
   "outputs": [
    {
     "data": {
      "text/plain": [
       "sanity_check (generic function with 1 method)"
      ]
     },
     "execution_count": 3,
     "metadata": {},
     "output_type": "execute_result"
    }
   ],
   "source": [
    "function sanity_check(solution_list,n)\n",
    "    position_arr = zeros(Bool,3,n+1)\n",
    "    for (x,y,z) in solution_list\n",
    "            (position_arr[1,x+1] || position_arr[2,y+1] || position_arr[3,z+1]) && return false\n",
    "            position_arr[1,x+1] = true\n",
    "            position_arr[2,y+1] = true\n",
    "            position_arr[3,z+1] = true    \n",
    "    end\n",
    "    return true\n",
    "end"
   ]
  },
  {
   "cell_type": "code",
   "execution_count": 4,
   "metadata": {},
   "outputs": [
    {
     "data": {
      "text/plain": [
       "restricted_stepwise (generic function with 1 method)"
      ]
     },
     "execution_count": 4,
     "metadata": {},
     "output_type": "execute_result"
    }
   ],
   "source": [
    "function restricted_stepwise(n,k)\n",
    "    mode = n%3\n",
    "    res_list = []\n",
    "    x = n-k\n",
    "    y = 0\n",
    "    z = k\n",
    "    \n",
    "    # mini mode updates\n",
    "    if mode == 0 \n",
    "        x+=1 \n",
    "        z-=1\n",
    "    end\n",
    "    \n",
    "    while z >= 0\n",
    "        push!(res_list,(x,y,z))\n",
    "        x += 1\n",
    "        y += 1\n",
    "        z -= 2\n",
    "    end\n",
    "    x = 0\n",
    "    z = n - y\n",
    "    \n",
    "    # mini mode updates\n",
    "    if mode == 2 \n",
    "        y+=1\n",
    "        z-=1\n",
    "    end\n",
    "    \n",
    "    while z >= 0\n",
    "        push!(res_list,(x,y,z))\n",
    "        x += 1\n",
    "        y += 1\n",
    "        z -= 2\n",
    "    end\n",
    "    length(res_list),res_list\n",
    "end"
   ]
  },
  {
   "cell_type": "code",
   "execution_count": 5,
   "metadata": {
    "scrolled": true
   },
   "outputs": [
    {
     "name": "stdout",
     "output_type": "stream",
     "text": [
      "Input: stdin> 300\n"
     ]
    },
    {
     "data": {
      "text/plain": [
       "300"
      ]
     },
     "execution_count": 5,
     "metadata": {},
     "output_type": "execute_result"
    }
   ],
   "source": [
    "print(\"Input: \") \n",
    "n = readline()\n",
    "n = parse(Int64, n)"
   ]
  },
  {
   "cell_type": "code",
   "execution_count": 6,
   "metadata": {},
   "outputs": [
    {
     "name": "stdout",
     "output_type": "stream",
     "text": [
      "  0.023069 seconds (14.67 k allocations: 842.834 KiB, 99.85% compilation time)\n"
     ]
    },
    {
     "data": {
      "text/plain": [
       "(201, Any[(100, 0, 200), (101, 1, 198), (102, 2, 196), (103, 3, 194), (104, 4, 192), (105, 5, 190), (106, 6, 188), (107, 7, 186), (108, 8, 184), (109, 9, 182)  …  (90, 191, 19), (91, 192, 17), (92, 193, 15), (93, 194, 13), (94, 195, 11), (95, 196, 9), (96, 197, 7), (97, 198, 5), (98, 199, 3), (99, 200, 1)])"
      ]
     },
     "execution_count": 6,
     "metadata": {},
     "output_type": "execute_result"
    }
   ],
   "source": [
    "\n",
    "k = Int(floor(2*n/3)+1)\n",
    "@time res_len, res = restricted_stepwise(n,k)"
   ]
  },
  {
   "cell_type": "code",
   "execution_count": 9,
   "metadata": {},
   "outputs": [
    {
     "data": {
      "text/plain": [
       "true"
      ]
     },
     "execution_count": 9,
     "metadata": {},
     "output_type": "execute_result"
    }
   ],
   "source": [
    "sanity_check(res,n)"
   ]
  },
  {
   "cell_type": "code",
   "execution_count": 10,
   "metadata": {},
   "outputs": [
    {
     "name": "stdout",
     "output_type": "stream",
     "text": [
      "Any[(100, 0, 200), (101, 1, 198), (102, 2, 196), (103, 3, 194), (104, 4, 192), (105, 5, 190), (106, 6, 188), (107, 7, 186), (108, 8, 184), (109, 9, 182), (110, 10, 180), (111, 11, 178), (112, 12, 176), (113, 13, 174), (114, 14, 172), (115, 15, 170), (116, 16, 168), (117, 17, 166), (118, 18, 164), (119, 19, 162), (120, 20, 160), (121, 21, 158), (122, 22, 156), (123, 23, 154), (124, 24, 152), (125, 25, 150), (126, 26, 148), (127, 27, 146), (128, 28, 144), (129, 29, 142), (130, 30, 140), (131, 31, 138), (132, 32, 136), (133, 33, 134), (134, 34, 132), (135, 35, 130), (136, 36, 128), (137, 37, 126), (138, 38, 124), (139, 39, 122), (140, 40, 120), (141, 41, 118), (142, 42, 116), (143, 43, 114), (144, 44, 112), (145, 45, 110), (146, 46, 108), (147, 47, 106), (148, 48, 104), (149, 49, 102), (150, 50, 100), (151, 51, 98), (152, 52, 96), (153, 53, 94), (154, 54, 92), (155, 55, 90), (156, 56, 88), (157, 57, 86), (158, 58, 84), (159, 59, 82), (160, 60, 80), (161, 61, 78), (162, 62, 76), (163, 63, 74), (164, 64, 72), (165, 65, 70), (166, 66, 68), (167, 67, 66), (168, 68, 64), (169, 69, 62), (170, 70, 60), (171, 71, 58), (172, 72, 56), (173, 73, 54), (174, 74, 52), (175, 75, 50), (176, 76, 48), (177, 77, 46), (178, 78, 44), (179, 79, 42), (180, 80, 40), (181, 81, 38), (182, 82, 36), (183, 83, 34), (184, 84, 32), (185, 85, 30), (186, 86, 28), (187, 87, 26), (188, 88, 24), (189, 89, 22), (190, 90, 20), (191, 91, 18), (192, 92, 16), (193, 93, 14), (194, 94, 12), (195, 95, 10), (196, 96, 8), (197, 97, 6), (198, 98, 4), (199, 99, 2), (200, 100, 0), (0, 101, 199), (1, 102, 197), (2, 103, 195), (3, 104, 193), (4, 105, 191), (5, 106, 189), (6, 107, 187), (7, 108, 185), (8, 109, 183), (9, 110, 181), (10, 111, 179), (11, 112, 177), (12, 113, 175), (13, 114, 173), (14, 115, 171), (15, 116, 169), (16, 117, 167), (17, 118, 165), (18, 119, 163), (19, 120, 161), (20, 121, 159), (21, 122, 157), (22, 123, 155), (23, 124, 153), (24, 125, 151), (25, 126, 149), (26, 127, 147), (27, 128, 145), (28, 129, 143), (29, 130, 141), (30, 131, 139), (31, 132, 137), (32, 133, 135), (33, 134, 133), (34, 135, 131), (35, 136, 129), (36, 137, 127), (37, 138, 125), (38, 139, 123), (39, 140, 121), (40, 141, 119), (41, 142, 117), (42, 143, 115), (43, 144, 113), (44, 145, 111), (45, 146, 109), (46, 147, 107), (47, 148, 105), (48, 149, 103), (49, 150, 101), (50, 151, 99), (51, 152, 97), (52, 153, 95), (53, 154, 93), (54, 155, 91), (55, 156, 89), (56, 157, 87), (57, 158, 85), (58, 159, 83), (59, 160, 81), (60, 161, 79), (61, 162, 77), (62, 163, 75), (63, 164, 73), (64, 165, 71), (65, 166, 69), (66, 167, 67), (67, 168, 65), (68, 169, 63), (69, 170, 61), (70, 171, 59), (71, 172, 57), (72, 173, 55), (73, 174, 53), (74, 175, 51), (75, 176, 49), (76, 177, 47), (77, 178, 45), (78, 179, 43), (79, 180, 41), (80, 181, 39), (81, 182, 37), (82, 183, 35), (83, 184, 33), (84, 185, 31), (85, 186, 29), (86, 187, 27), (87, 188, 25), (88, 189, 23), (89, 190, 21), (90, 191, 19), (91, 192, 17), (92, 193, 15), (93, 194, 13), (94, 195, 11), (95, 196, 9), (96, 197, 7), (97, 198, 5), (98, 199, 3), (99, 200, 1)]"
     ]
    }
   ],
   "source": [
    "show(res)"
   ]
  },
  {
   "cell_type": "code",
   "execution_count": null,
   "metadata": {},
   "outputs": [],
   "source": []
  }
 ],
 "metadata": {
  "kernelspec": {
   "display_name": "Julia 1.6.1",
   "language": "julia",
   "name": "julia-1.6"
  },
  "language_info": {
   "file_extension": ".jl",
   "mimetype": "application/julia",
   "name": "julia",
   "version": "1.6.1"
  }
 },
 "nbformat": 4,
 "nbformat_minor": 4
}
